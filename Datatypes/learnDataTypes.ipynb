{
 "cells": [
  {
   "cell_type": "code",
   "execution_count": 19,
   "metadata": {},
   "outputs": [
    {
     "name": "stdout",
     "output_type": "stream",
     "text": [
      "h\n",
      "e\n",
      "l\n",
      "l\n",
      "o\n"
     ]
    },
    {
     "data": {
      "text/plain": [
       "'hello world'"
      ]
     },
     "execution_count": 19,
     "metadata": {},
     "output_type": "execute_result"
    }
   ],
   "source": [
    "###String\n",
    "\n",
    "'hello' #this is a string \n",
    "\"hello\" #this is also a string\n",
    "\"\"\"hello\"\"\" #this is a string\n",
    "'''hello''' #this is also a string\n",
    "\n",
    "'notice how they are flanked by a single or double quotes thats whats making them string'\n",
    "\n",
    "#concatenating string\n",
    "x = 'hello'\n",
    "y = 'world'\n",
    "z = x + '\\n' + y + '\\n'\n",
    "#print (z)\n",
    "#print('-----')\n",
    "#print(z*10)\n",
    "\n",
    "#getting index on string\n",
    "#putting 0 on range (0, len(x)) makes the code startign with index 0\n",
    "for i in range (0, len(x)): \n",
    "    print(x[i])\n",
    "\n",
    "'we can slices the string like in the list'\n",
    "\n"
   ]
  },
  {
   "cell_type": "code",
   "execution_count": 21,
   "metadata": {},
   "outputs": [
    {
     "name": "stdout",
     "output_type": "stream",
     "text": [
      "15 sum of x and y\n"
     ]
    }
   ],
   "source": [
    "###Integers\n",
    "\n",
    "2 #this is an integer\n",
    "10 #this is also an integer\n",
    "-2 #this is an integer\n",
    "1000 #this is also an integer\n",
    "\n",
    "'integer is a whole number'\n",
    "\n",
    "#unlike in the string when we use integers we can use basic aritmatic operations\n",
    "x = 10\n",
    "y = 5\n",
    "z = x + y\n",
    "print(str(z) +' ' + 'sum of x and y')\n",
    "\n",
    "'''arithmatic operation like [ + , - , * , / , % , ** , // ]\n",
    "where + is for addition\n",
    "      - is for subtraction\n",
    "      * is for multiplication\n",
    "      / is for division\n",
    "      % is for modulus\n",
    "      ** is for power\n",
    "      // is for floor division\n",
    "\n",
    "we can also use [== , != , < , > , <= , >= ]\n",
    "where  == is for equal to\n",
    "       != is for not equal to\n",
    "       < is for less than\n",
    "       > is for greater than\n",
    "       <= is for less than or equal to\n",
    "       >= is for greater than or equal to\n",
    "'''\n",
    "\n"
   ]
  },
  {
   "cell_type": "code",
   "execution_count": 25,
   "metadata": {},
   "outputs": [
    {
     "name": "stdout",
     "output_type": "stream",
     "text": [
      "5.0 sum of x and y\n"
     ]
    }
   ],
   "source": [
    "###Floats\n",
    "\n",
    "2.5 #this is a float\n",
    "10.5 #this is also a float\n",
    "-2.5 #this is a float\n",
    "1000.5 #this is also a float\n",
    "\n",
    "#float is a decimal number\n",
    "\n",
    "\"\"\"\n",
    "float is a decimal number, we can perform it like in the integers \n",
    "\"\"\"\n",
    "\n",
    "x = 10.5\n",
    "y = 5.5\n",
    "print(str(z) +' ' + 'sum of x and y')\n",
    "\n",
    "\n"
   ]
  },
  {
   "cell_type": "code",
   "execution_count": 29,
   "metadata": {},
   "outputs": [
    {
     "name": "stdout",
     "output_type": "stream",
     "text": [
      "False\n",
      "x is not equal to y\n"
     ]
    }
   ],
   "source": [
    "###Boolean\n",
    "\n",
    "True #this is a boolean\n",
    "False #this is also a boolean\n",
    "\n",
    "\"\"\" boolean consist of two values [True , False] \"\"\"\n",
    "\n",
    "#if we perform a comparison like [ == , != , < , > , <= , >= ]\n",
    "x = 10\n",
    "y = 5\n",
    "print(str(x == y) + '\\n' + 'x is not equal to y') #notice how i change the type into string because we do string concaenation and needed to make the var into string\n"
   ]
  },
  {
   "cell_type": "code",
   "execution_count": 6,
   "metadata": {},
   "outputs": [
    {
     "name": "stdout",
     "output_type": "stream",
     "text": [
      "[1, 0.5, 'hello', True]\n",
      "[1, 0.5, 'hello', True, False]\n",
      "[1, 0.5, 'gaisz', 'hello']\n",
      "[1, 0.5]\n",
      "[1, 0.5]\n",
      "[]\n",
      "1\n",
      "[0.5, 'hello']\n",
      "hello\n",
      "True\n",
      "2\n",
      "3\n",
      "2\n",
      "1 is in x\n"
     ]
    },
    {
     "data": {
      "text/plain": [
       "0"
      ]
     },
     "execution_count": 6,
     "metadata": {},
     "output_type": "execute_result"
    }
   ],
   "source": [
    "###List\n",
    "\n",
    "[1,2,3] #this is a list\n",
    "\n",
    "\"\"\"list is a collection of items\n",
    "list can be any data type\n",
    "list can be nested\n",
    "list can be of different data types\n",
    "list is immutables\n",
    "list can be sliced\n",
    "\"\"\"\n",
    "\n",
    "[1, 0.5, \"hello\"]\n",
    "[1, 0.5, \"hello\", True] #notice how we can add different data types\n",
    "\n",
    "\"\"\"list basic operations was \n",
    "append\n",
    "extend\n",
    "insert\n",
    "remove\n",
    "pop\n",
    "clear \n",
    "\"\"\"\n",
    "\n",
    "x = [1, 0.5, \"hello\"]\n",
    "x.append(True)\n",
    "print(x)\n",
    "x = [1, 0.5, \"hello\"]\n",
    "x.extend([True, False])\n",
    "print(x)\n",
    "x = [1, 0.5, \"hello\"]\n",
    "x.insert(2, \"gaisz\")\n",
    "print(x)\n",
    "x = [1, 0.5, \"hello\"]\n",
    "x.remove(\"hello\")\n",
    "print(x)\n",
    "x = [1, 0.5, \"hello\"]\n",
    "x.pop()\n",
    "print(x)\n",
    "x = [1, 0.5, \"hello\"]\n",
    "x.clear()\n",
    "print(x)\n",
    "\n",
    "#list can be sliced\n",
    "x = [1, 0.5, \"hello\"]\n",
    "print(x[0])\n",
    "print(x[1:3])\n",
    "\n",
    "#what about combining all \n",
    "x = [1, 0.5, \"hello\"]\n",
    "y = [True, False]\n",
    "z = [x] + [y] #combining 2 list into 1 list, or could say a matrices or a 2D array\n",
    "z #well im tired of typing print everytime \n",
    "print(z[0][2]) #this is gonna print the third item in the first list\n",
    "print(z[1][0]) #this is gonna print the first item in the second list\n",
    "'print(z[3][5])' #this will result in a erro because the list is not long enough\n",
    "\n",
    "#we can see lenght of the list \n",
    "print(len(z)) #lenght of third the list, notice how the result was 2 \n",
    "print (len(x)) #lenght of the first list\n",
    "print (len(y)) #lenght of the second list\n",
    "\n",
    "if 1  in x:\n",
    "    print('1 is in x')\n",
    "else:\n",
    "    print('1 is not in x')\n",
    "\n",
    "\n",
    "\n"
   ]
  },
  {
   "cell_type": "code",
   "execution_count": 8,
   "metadata": {},
   "outputs": [
    {
     "name": "stdout",
     "output_type": "stream",
     "text": [
      "1\n",
      "(0.5, 'hello')\n",
      "1\n",
      "0.5\n",
      "hello\n",
      "0\n"
     ]
    }
   ],
   "source": [
    "###Tuple\n",
    "\n",
    "(1,2,3) #this is a tuple\n",
    "\n",
    "\n",
    "\"\"\"tuple is a collection of items\n",
    "tuple can be any data type\n",
    "tuple can be nested\n",
    "tuple can be of different data types\"\"\"\n",
    "\n",
    "#smiliar to list, str and other sequences data tuples can be indexed \n",
    "\n",
    "x = (1, 0.5, \"hello\")\n",
    "print(x[0]) #get data in index zero\n",
    "print(x[1:3]) #get data in index one and two\n",
    "\n",
    "for i in x:\n",
    "    print(i)\n",
    "\n",
    "#tou can count how many times an item is in a tuple\n",
    "print(x.count(\"True\")) #returning 0 because the item is not in the tuple\n"
   ]
  },
  {
   "cell_type": "code",
   "execution_count": null,
   "metadata": {},
   "outputs": [],
   "source": []
  }
 ],
 "metadata": {
  "kernelspec": {
   "display_name": "myenv",
   "language": "python",
   "name": "python3"
  },
  "language_info": {
   "codemirror_mode": {
    "name": "ipython",
    "version": 3
   },
   "file_extension": ".py",
   "mimetype": "text/x-python",
   "name": "python",
   "nbconvert_exporter": "python",
   "pygments_lexer": "ipython3",
   "version": "3.10.12"
  }
 },
 "nbformat": 4,
 "nbformat_minor": 2
}
