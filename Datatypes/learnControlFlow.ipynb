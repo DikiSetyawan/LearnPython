{
 "cells": [
  {
   "cell_type": "code",
   "execution_count": 22,
   "metadata": {},
   "outputs": [
    {
     "name": "stdout",
     "output_type": "stream",
     "text": [
      "y is an integer\n",
      "<class 'int'>\n",
      "your name is not a string or an integer\n",
      "<class 'bool'>\n",
      "24\n"
     ]
    }
   ],
   "source": [
    "#if statements \n",
    "\"\"\"\n",
    "if statments is use when you need to create a conditional program or control it\n",
    "more like when you if you want to make a decision, then you use if statments\n",
    "its like if this then do that, else do something else\n",
    "\"\"\"\n",
    "\n",
    "x = 12\n",
    "y = (type(x))\n",
    "if y == int : #checking if a variable is not an integer\n",
    "    print('y is an integer') #if its not integer then print this \n",
    "else :\n",
    "    print('y is not an integer') #otherwise print this\n",
    "\n",
    "print ((type(x)))\n",
    "\n",
    "'''\n",
    "there is another in if called elif \n",
    "short for else if\n",
    "'''\n",
    "\n",
    "x = True\n",
    "y = (type(x))\n",
    "if y == str : #cheking if the x variable is  a string\n",
    "    print(x)\n",
    "elif y == int : #checking if the x variable is an integer\n",
    "    print('your name is not a string')\n",
    "else : #checking if the x variable is not a string or an integer\n",
    "    print('your name is not a string or an integer')\n",
    "print(y)\n",
    "\n",
    "\"\"\"well thats for the basics\"\"\"\n",
    "\n",
    "#lets make some functional programming using if statements : \n",
    "x = int(input()) # this is the function to get the user input\n",
    "y = int(input()) # this is the function to get the user input\n",
    "operator = input() # this is the function to get the user input for the arithatic operation\n",
    "\n",
    "#note since the x, y variabel are above the operator variable you must put number first then the operator\n",
    "#this is simple calculator\n",
    "\n",
    "if operator == '+':\n",
    "    print(x+y)\n",
    "elif operator == '-':\n",
    "    print(x-y)\n",
    "elif operator == '/':\n",
    "    print(x/y)\n",
    "elif operator == '*':\n",
    "    print(x*y)\n",
    "else :\n",
    "    print('invalid operator')\n",
    "\n",
    "\n",
    "\n",
    "\n",
    "\n"
   ]
  },
  {
   "cell_type": "code",
   "execution_count": null,
   "metadata": {},
   "outputs": [],
   "source": []
  }
 ],
 "metadata": {
  "kernelspec": {
   "display_name": "myenv",
   "language": "python",
   "name": "python3"
  },
  "language_info": {
   "codemirror_mode": {
    "name": "ipython",
    "version": 3
   },
   "file_extension": ".py",
   "mimetype": "text/x-python",
   "name": "python",
   "nbconvert_exporter": "python",
   "pygments_lexer": "ipython3",
   "version": "3.10.12"
  }
 },
 "nbformat": 4,
 "nbformat_minor": 2
}
