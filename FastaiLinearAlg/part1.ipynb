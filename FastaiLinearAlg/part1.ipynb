{
 "cells": [
  {
   "cell_type": "code",
   "execution_count": 18,
   "metadata": {},
   "outputs": [
    {
     "name": "stdout",
     "output_type": "stream",
     "text": [
      "1234 in Indonesian is: seribu dua ratus tiga puluh empat\n",
      "CPU times: user 54 μs, sys: 0 ns, total: 54 μs\n",
      "Wall time: 51.5 μs\n"
     ]
    }
   ],
   "source": [
    "%%time\n",
    "def int_to_indonesian(num):\n",
    "    # Dictionary for basic numbers in Indonesian\n",
    "    ones = [\"\", \"satu\", \"dua\", \"tiga\", \"empat\", \"lima\", \"enam\", \"tujuh\", \"delapan\", \"sembilan\"]\n",
    "    tens = [\"\", \"sepuluh\", \"dua puluh\", \"tiga puluh\", \"empat puluh\", \"lima puluh\", \"enam puluh\", \"tujuh puluh\", \"delapan puluh\", \"sembilan puluh\"]\n",
    "    hundreds = [\"\", \"seratus\", \"dua ratus\", \"tiga ratus\", \"empat ratus\", \"lima ratus\", \"enam ratus\", \"tujuh ratus\", \"delapan ratus\", \"sembilan ratus\"]\n",
    "\n",
    "    # Specific cases\n",
    "    if num == 0:\n",
    "        return \"nol\"\n",
    "    elif num == 1000:\n",
    "        return \"seribu\"\n",
    "\n",
    "    result = []\n",
    "\n",
    "    # Handling thousands\n",
    "    if num >= 1000:\n",
    "        thousands_digit = num // 1000\n",
    "        if thousands_digit == 1:\n",
    "            result.append(\"seribu\")\n",
    "        else:\n",
    "            result.append(ones[thousands_digit] + \" ribu\")\n",
    "        num %= 1000\n",
    "\n",
    "    # Handling hundreds\n",
    "    if num >= 100:\n",
    "        result.append(hundreds[num // 100])\n",
    "        num %= 100\n",
    "\n",
    "    # Handling tens\n",
    "    if num >= 10:\n",
    "        if num >= 10 and num <= 19:\n",
    "            if num == 10:\n",
    "                result.append(\"sepuluh\")\n",
    "            elif num == 11:\n",
    "                result.append(\"sebelas\")\n",
    "            else:\n",
    "                result.append(ones[num % 10] + \" belas\")\n",
    "            num = 0  # no need for further processing\n",
    "        else:\n",
    "            result.append(tens[num // 10])\n",
    "        num %= 10\n",
    "\n",
    "    # Handling ones\n",
    "    if num > 0:\n",
    "        result.append(ones[num])\n",
    "\n",
    "    return \" \".join(result)\n",
    "\n",
    "\n",
    "# Example usage\n",
    "number = 1234\n",
    "print(f\"{number} in Indonesian is: {int_to_indonesian(number)}\")\n"
   ]
  },
  {
   "cell_type": "code",
   "execution_count": 30,
   "metadata": {},
   "outputs": [
    {
     "name": "stdout",
     "output_type": "stream",
     "text": [
      "1234 in Indonesian is: seribu dua ratus tiga puluh empat\n",
      "CPU times: user 56 μs, sys: 0 ns, total: 56 μs\n",
      "Wall time: 58.2 μs\n"
     ]
    }
   ],
   "source": [
    "%%time\n",
    "def int_to_indonesian(num):\n",
    "    # Map basic numbers\n",
    "    ones = [\"\", \"satu\", \"dua\", \"tiga\", \"empat\", \"lima\", \"enam\", \"tujuh\", \"delapan\", \"sembilan\"]\n",
    "    \n",
    "    # Handle special cases for teens\n",
    "    teens = [\"sepuluh\", \"sebelas\", \"dua belas\", \"tiga belas\", \"empat belas\", \"lima belas\", \"enam belas\", \"tujuh belas\", \"delapan belas\", \"sembilan belas\"]\n",
    "\n",
    "    # Handle large place values\n",
    "    place_values = {5: \"puluh ribu\", 4: \"ribu\", 3: \"ratus\", 2: \"puluh\", 1: \"\"}\n",
    "\n",
    "    # Convert number to string for easy traversal and calculate its length\n",
    "    num_str = str(num)\n",
    "    length = len(num_str)\n",
    "    result = []\n",
    "\n",
    "    # Iterate through each digit and determine its place value\n",
    "    for i, digit in enumerate(num_str):\n",
    "        digit = int(digit)\n",
    "        place = length - i\n",
    "\n",
    "        # Skip if the digit is zero (except for special cases)\n",
    "        if digit == 0:\n",
    "            continue\n",
    "\n",
    "        # Handle thousands\n",
    "        if place == 4:\n",
    "            result.append(\"seribu\" if digit == 1 else ones[digit] + \" ribu\")\n",
    "        # Handle hundreds\n",
    "        elif place == 3:\n",
    "            result.append(\"seratus\" if digit == 1 else ones[digit] + \" ratus\")\n",
    "        # Handle tens (including special cases for teens)\n",
    "        elif place == 2:\n",
    "            if digit == 1 and i + 1 < length:\n",
    "                result.append(teens[int(num_str[i + 1])])\n",
    "                break\n",
    "            else:\n",
    "                result.append(ones[digit] + \" puluh\")\n",
    "        # Handle units\n",
    "        else:\n",
    "            result.append(ones[digit])\n",
    "\n",
    "    return \" \".join(result)\n",
    "\n",
    "\n",
    "# Example usage\n",
    "number = 1234\n",
    "print(f\"{number} in Indonesian is: {int_to_indonesian(number)}\")\n"
   ]
  },
  {
   "cell_type": "code",
   "execution_count": 31,
   "metadata": {},
   "outputs": [],
   "source": [
    "import numpy as np\n",
    "\n",
    "a = np.arange(25).reshape(5, 5)"
   ]
  },
  {
   "cell_type": "code",
   "execution_count": 32,
   "metadata": {},
   "outputs": [
    {
     "data": {
      "text/plain": [
       "array([[ 1,  3],\n",
       "       [ 6,  8],\n",
       "       [11, 13],\n",
       "       [16, 18],\n",
       "       [21, 23]])"
      ]
     },
     "execution_count": 32,
     "metadata": {},
     "output_type": "execute_result"
    }
   ],
   "source": [
    "a[:,1::2]"
   ]
  },
  {
   "cell_type": "code",
   "execution_count": null,
   "metadata": {},
   "outputs": [],
   "source": []
  }
 ],
 "metadata": {
  "kernelspec": {
   "display_name": "myenv",
   "language": "python",
   "name": "python3"
  },
  "language_info": {
   "codemirror_mode": {
    "name": "ipython",
    "version": 3
   },
   "file_extension": ".py",
   "mimetype": "text/x-python",
   "name": "python",
   "nbconvert_exporter": "python",
   "pygments_lexer": "ipython3",
   "version": "3.10.12"
  }
 },
 "nbformat": 4,
 "nbformat_minor": 2
}
