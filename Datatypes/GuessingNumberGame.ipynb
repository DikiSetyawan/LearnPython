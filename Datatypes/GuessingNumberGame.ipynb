{
 "cells": [
  {
   "cell_type": "code",
   "execution_count": 9,
   "metadata": {},
   "outputs": [
    {
     "name": "stdout",
     "output_type": "stream",
     "text": [
      "your number is between 76 and 86\n",
      "your number is between 76 and 86\n",
      "your number is between 76 and 86\n",
      "your number is between 76 and 86\n",
      "your number is between 76 and 86\n",
      "your number is between 76 and 86\n",
      "your number is between 76 and 86\n",
      "your number is between 76 and 86\n",
      "your number is between 76 and 86\n",
      "your number is between 76 and 86\n",
      "your number is between 76 and 86\n",
      "your number is between 76 and 86\n",
      "your number is between 76 and 86\n",
      "your number is between 76 and 86\n",
      "your number is between 76 and 86\n",
      "your number is between 76 and 86\n",
      "your number is between 76 and 86\n",
      "your number is between 76 and 86\n",
      "your number is between 76 and 86\n",
      "your number is between 76 and 86\n"
     ]
    },
    {
     "data": {
      "text/plain": [
       "'You guessed it right'"
      ]
     },
     "execution_count": 9,
     "metadata": {},
     "output_type": "execute_result"
    }
   ],
   "source": [
    "import random as r \n",
    "\n",
    "def guessNumber(num):\n",
    "    number = r.randint(1, 100)\n",
    "    while number != num:\n",
    "        if 0 < number < 25 : \n",
    "            if 0 < number < 10 :\n",
    "                print(\"your number is between 0 and 10\")\n",
    "            elif 11 < number < 25 :\n",
    "                print(\"your number is between 11 and 25\")\n",
    "            #print(\"your number is between 0 and 25\")\n",
    "        elif 26 < number < 50 : \n",
    "            if 26 < number < 36 :\n",
    "                print(\"your number is between 26 and 36\")\n",
    "            elif 37< number < 50 :\n",
    "                print(\"your number is between 37 and 50\")\n",
    "            #print(\"your number is between 26 and 50\")\n",
    "        elif 51 < number < 75 : \n",
    "            if 51 < number < 61 :\n",
    "                print(\"your number is between 51 and 61\")\n",
    "            elif 61 < number < 75 :\n",
    "                print(\"your number is between 61 and 75\")\n",
    "            #print(\"your number is between 51 and 75\")\n",
    "        elif 76 < number < 100 : \n",
    "            if 76 < number < 86 :\n",
    "                print(\"your number is between 76 and 86\")\n",
    "            elif 86 < number < 100 :\n",
    "                print(\"your number is between 86 and 100\")\n",
    "            #print(\"your number is between 76 and 100\")\n",
    "        num = int(input(\"guess again: \"))\n",
    "    return(f\"You guessed it right the number was {number}\")\n",
    "\n",
    "\n",
    "guessNumber(50)\n"
   ]
  },
  {
   "cell_type": "code",
   "execution_count": null,
   "metadata": {},
   "outputs": [],
   "source": []
  }
 ],
 "metadata": {
  "kernelspec": {
   "display_name": "myenv",
   "language": "python",
   "name": "python3"
  },
  "language_info": {
   "codemirror_mode": {
    "name": "ipython",
    "version": 3
   },
   "file_extension": ".py",
   "mimetype": "text/x-python",
   "name": "python",
   "nbconvert_exporter": "python",
   "pygments_lexer": "ipython3",
   "version": "3.12.0"
  }
 },
 "nbformat": 4,
 "nbformat_minor": 2
}
