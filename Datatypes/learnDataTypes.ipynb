{
 "cells": [
  {
   "cell_type": "code",
   "execution_count": null,
   "metadata": {},
   "outputs": [],
   "source": [
    "###String\n",
    "\n",
    "'hello' #this is a string \n",
    "\"hello\" #this is also a string\n",
    "\"\"\"hello\"\"\" #this is a string\n",
    "'''hello''' #this is also a string\n",
    "\n",
    "notice how they are flanked by a single or double quotes thats whats making them string"
   ]
  },
  {
   "cell_type": "code",
   "execution_count": null,
   "metadata": {},
   "outputs": [],
   "source": [
    "###Integers\n",
    "\n",
    "2 #this is an integer\n",
    "10 #this is also an integer\n",
    "-2 #this is an integer\n",
    "1000 #this is also an integer\n",
    "\n",
    "integer is a whole number"
   ]
  },
  {
   "cell_type": "code",
   "execution_count": null,
   "metadata": {},
   "outputs": [],
   "source": [
    "###Floats\n",
    "\n",
    "2.5 #this is a float\n",
    "10.5 #this is also a float\n",
    "-2.5 #this is a float\n",
    "1000.5 #this is also a float\n",
    "\n",
    "float is a decimal number"
   ]
  },
  {
   "cell_type": "code",
   "execution_count": null,
   "metadata": {},
   "outputs": [],
   "source": [
    "###Boolean\n",
    "\n",
    "True #this is a boolean\n",
    "False #this is also a boolean"
   ]
  },
  {
   "cell_type": "code",
   "execution_count": null,
   "metadata": {},
   "outputs": [],
   "source": [
    "###List\n",
    "\n",
    "[1,2,3] #this is a list\n",
    "[1,2,3,4,5] #this is also a list\n",
    "[1,2,3,4,5,6,7,8,9,10] #this is also a list\n",
    "\n",
    "list is a collection of items\n",
    "list can be any data type\n",
    "list can be nested\n",
    "list can be of different data types\n",
    "\n",
    "[1, 0.5, \"hello\"]\n",
    "[1, 0.5, \"hello\", True]"
   ]
  },
  {
   "cell_type": "code",
   "execution_count": null,
   "metadata": {},
   "outputs": [],
   "source": [
    "###Tuple\n",
    "\n",
    "(1,2,3) #this is a tuple\n",
    "(1,2,3,4,5) #this is also a tuple\n",
    "(1,2,3,4,5,6,7,8,9,10) #this is also a tuple\n",
    "\n",
    "tuple is a collection of items\n",
    "tuple can be any data type\n",
    "tuple can be nested\n",
    "tuple can be of different data types"
   ]
  }
 ],
 "metadata": {
  "kernelspec": {
   "display_name": "myenv",
   "language": "python",
   "name": "python3"
  },
  "language_info": {
   "name": "python",
   "version": "3.10.12"
  }
 },
 "nbformat": 4,
 "nbformat_minor": 2
}
