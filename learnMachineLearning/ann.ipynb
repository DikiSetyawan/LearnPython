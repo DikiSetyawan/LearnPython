{
 "cells": [
  {
   "cell_type": "code",
   "execution_count": 1,
   "metadata": {},
   "outputs": [],
   "source": [
    "import numpy as np \n",
    "\n",
    "train = np.array(\n",
    "    [\n",
    "        [12, 2],\n",
    "        [3, 4],\n",
    "        [6, 8],\n",
    "        [9, 12],\n",
    "        [15, 18],\n",
    "        [21, 24],\n",
    "        [27, 32],\n",
    "        [36, 42],\n",
    "        [45, 48],\n",
    "        [51, 54],\n",
    "        [57, 60],\n",
    "        [63, 66],\n",
    "        [69, 72],\n",
    "        [75, 78],\n",
    "        [81, 84],\n",
    "        [87, 90],\n",
    "        [93, 96],\n",
    "        [99, 102],\n",
    "        [105, 108],\n",
    "        [111, 114],\n",
    "    ]\n",
    ")\n",
    "trainCount = len(train)"
   ]
  },
  {
   "cell_type": "code",
   "execution_count": 2,
   "metadata": {},
   "outputs": [],
   "source": [
    "def randomFloat():\n",
    "    return np.random.rand()\n"
   ]
  },
  {
   "cell_type": "code",
   "execution_count": 11,
   "metadata": {},
   "outputs": [
    {
     "name": "stdout",
     "output_type": "stream",
     "text": [
      "x value:12, predicted:3.9382468950494163 ,actual:2, residual:1.9382468950494163\n",
      "x value:3, predicted:2.77053035479902 ,actual:4, residual:-1.2294696452009801\n",
      "x value:6, predicted:2.1679929790695045 ,actual:8, residual:-5.8320070209304955\n",
      "x value:9, predicted:3.3702492540141606 ,actual:12, residual:-8.62975074598584\n",
      "x value:15, predicted:5.615595140800304 ,actual:18, residual:-12.384404859199696\n",
      "x value:21, predicted:14.307153661723904 ,actual:24, residual:-9.692846338276096\n",
      "x value:27, predicted:26.606184069194164 ,actual:32, residual:-5.393815930805836\n",
      "x value:36, predicted:9.834222201563241 ,actual:42, residual:-32.16577779843676\n",
      "x value:45, predicted:7.518939560442944 ,actual:48, residual:-40.481060439557055\n",
      "x value:51, predicted:37.1840808814998 ,actual:54, residual:-16.815919118500197\n",
      "x value:57, predicted:54.92078137593919 ,actual:60, residual:-5.0792186240608075\n",
      "x value:63, predicted:29.4738956872432 ,actual:66, residual:-36.5261043127568\n",
      "x value:69, predicted:21.86868921906834 ,actual:72, residual:-50.131310780931656\n",
      "x value:75, predicted:2.5578227959086544 ,actual:78, residual:-75.44217720409135\n",
      "x value:81, predicted:71.6917064882837 ,actual:84, residual:-12.3082935117163\n",
      "x value:87, predicted:50.29014506342025 ,actual:90, residual:-39.70985493657975\n",
      "x value:93, predicted:45.81026778609581 ,actual:96, residual:-50.18973221390419\n",
      "x value:99, predicted:0.7928417715580465 ,actual:102, residual:-101.20715822844195\n",
      "x value:105, predicted:37.19155172175571 ,actual:108, residual:-70.8084482782443\n",
      "x value:111, predicted:69.67694161760573 ,actual:114, residual:-44.323058382394265\n",
      "-30.820608073748247\n"
     ]
    }
   ],
   "source": [
    "result = 0.0\n",
    "traincount = len(train)\n",
    "for i in range(trainCount):\n",
    "    x = train[i][0]\n",
    "    w = randomFloat()\n",
    "    y = x * w\n",
    "    residual = y - train[i][1]\n",
    "    result += residual\n",
    "    print(f\"x value:{x}, predicted:{y} ,actual:{train[i][1]}, residual:{residual}\")\n",
    "\n",
    "print(result/traincount)\n"
   ]
  },
  {
   "cell_type": "code",
   "execution_count": 12,
   "metadata": {},
   "outputs": [
    {
     "name": "stdout",
     "output_type": "stream",
     "text": [
      "x value:12, predicted:1.6966540337442972 ,actual:2, residual:-0.30334596625570276\n",
      "x value:3, predicted:0.7028408395335708 ,actual:4, residual:-3.297159160466429\n",
      "x value:6, predicted:2.502640900625773 ,actual:8, residual:-5.497359099374227\n",
      "x value:9, predicted:0.797561016699146 ,actual:12, residual:-11.202438983300855\n",
      "x value:15, predicted:12.18496578925733 ,actual:18, residual:-5.81503421074267\n",
      "x value:21, predicted:3.864125973267398 ,actual:24, residual:-20.1358740267326\n",
      "x value:27, predicted:23.374810429810964 ,actual:32, residual:-8.625189570189036\n",
      "x value:36, predicted:30.91641369302907 ,actual:42, residual:-11.083586306970929\n",
      "x value:45, predicted:40.329390928563924 ,actual:48, residual:-7.6706090714360755\n",
      "x value:51, predicted:12.719040875706435 ,actual:54, residual:-41.28095912429357\n",
      "x value:57, predicted:40.72300113733886 ,actual:60, residual:-19.276998862661138\n",
      "x value:63, predicted:24.181696154158924 ,actual:66, residual:-41.81830384584107\n",
      "x value:69, predicted:32.70557103568731 ,actual:72, residual:-39.29442896431269\n",
      "x value:75, predicted:45.417886655739835 ,actual:78, residual:-32.582113344260165\n",
      "x value:81, predicted:68.0768554621658 ,actual:84, residual:-15.923144537834204\n",
      "x value:87, predicted:72.78395408114984 ,actual:90, residual:-17.216045918850156\n",
      "x value:93, predicted:51.31575024595238 ,actual:96, residual:-44.68424975404762\n",
      "x value:99, predicted:35.150770166691075 ,actual:102, residual:-66.84922983330893\n",
      "x value:105, predicted:85.93355895671787 ,actual:108, residual:-22.066441043282126\n",
      "x value:111, predicted:99.24736929415825 ,actual:114, residual:-14.752630705841753\n",
      "750.6085208169094\n"
     ]
    }
   ],
   "source": [
    "result = 0.0\n",
    "traincount = len(train)\n",
    "for i in range(trainCount):\n",
    "    x = train[i][0]\n",
    "    w = randomFloat()\n",
    "    y = x * w\n",
    "    residual = y - train[i][1]\n",
    "    result += residual*residual\n",
    "    print(f\"x value:{x}, predicted:{y} ,actual:{train[i][1]}, residual:{residual}\")\n",
    "\n",
    "print(result/traincount)\n"
   ]
  }
 ],
 "metadata": {
  "kernelspec": {
   "display_name": "myenv",
   "language": "python",
   "name": "python3"
  },
  "language_info": {
   "codemirror_mode": {
    "name": "ipython",
    "version": 3
   },
   "file_extension": ".py",
   "mimetype": "text/x-python",
   "name": "python",
   "nbconvert_exporter": "python",
   "pygments_lexer": "ipython3",
   "version": "3.10.12"
  }
 },
 "nbformat": 4,
 "nbformat_minor": 2
}
